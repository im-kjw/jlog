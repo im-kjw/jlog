{
 "cells": [
  {
   "cell_type": "markdown",
   "id": "06295ba8-4591-4084-a992-1ead65142b7c",
   "metadata": {},
   "source": [
    "# 01. 데이터 개요\n",
    "\n",
    "### 1. 데이터셋 설명\n",
    "> 이번 데이터셋은 **마케팅 캠페인의 효과를 검증하기 위해 A/B 테스트를 진행**한다. <br>\n",
    "> A/B 테스트는 **무작위 실험 기법**으로, 웹 페이지·배너·광고 등 *서로 다른 버전을 사용자 집단에 동시에 노출하여 성과가 높은 최적의 버전을 선택*하는 방식이다.\n",
    ">\n",
    "> 마케팅 회사들은 두 가지 질문에 답하고자 한다.\n",
    "> 1. 캠페인이 성공할 수 있는가?\n",
    "> 2. 성공했다면, 그 성공의 얼마나 많은 부분이 **광고 노출**에 기인하는가?\n",
    ">\n",
    "> 이를 위해 대다수 사용자(실험군)는 광고(ad)에 노출되고, 소수 사용자(대조군)는 공익광고(psa) 또는 아무것도 보지 않는다. <br>\n",
    "> 데이터셋은 이러한 실험 설계를 기반으로 하며, **광고가 실제로 전환(구매 등)에 영향을 미쳤는지** 검증하는 데 목적이 있다.\n",
    "\n",
    "### 2. 분석 목표\n",
    "- 실험군(`ad`)과 대조군(`psa`) 간 전환율 차이 검증  \n",
    "- 전환에 영향을 미치는 요인 탐색  \n",
    "<font style=\"color:#00198f\">ex) 광고 노출량(`total ads`)이 전환에 미치는 영향 분석, 요일(`most ads day`), 시간대(`most ads hour`)에 따른 전환 패턴 탐색</font>\n",
    "\n",
    "### 3. 분석 프로세스\n",
    "1. 데이터 개요 → 2. 탐색적 데이터 분석 (EDA) → 3. 통계적 검정 (A/B Test) → 4. 시각화 및 대시보드 제작 (Tableau) → 5. 인사이트 요약 및 의사결정 제시\n",
    "\n",
    "### 4. 변수 설명\n",
    "- **Unnamed: 0**: 단순 인덱스 값 (불필요; 제거 대상)\n",
    "- **user id**: 사용자 <font style=\"color:#00198f\">(ex: 1069124)</font>\n",
    "- **test group**: 실험군 / 대조군 <font style=\"color:#00198f\">(`ad` / `psa`)</font>\n",
    "- **converted**: 전환 여부 <font style=\"color:#00198f\">(`True` / `False`)</font>\n",
    "- **total ads**: 사용자가 본 총 광고 수 <font style=\"color:#00198f\">(ex: 130)</font>\n",
    "- **most ads day**: 가장 많은 광고가 노출된 요일 <font style=\"color:#00198f\">(Monday-Sunday)</font>\n",
    "- **most ads hour**: 가장 많은 광고가 노출된 시간대 <font style=\"color:#00198f\">(0-23)</font>\n",
    "\n",
    "### 5. 데이터 출처\n",
    "> Kaggle : https://www.kaggle.com/datasets/faviovaz/marketing-ab-testing"
   ]
  },
  {
   "cell_type": "markdown",
   "id": "9fce56d3-b77a-4531-a87a-49fbff56bdfa",
   "metadata": {},
   "source": [
    "<hr>"
   ]
  },
  {
   "cell_type": "markdown",
   "id": "8fcaea79-38d2-46a5-b4de-d9bfd67e7f19",
   "metadata": {},
   "source": [
    "## 1. 데이터 불러오기"
   ]
  },
  {
   "cell_type": "code",
   "execution_count": 1,
   "id": "ca5119e2-2c19-483e-a280-824b6ea4acd2",
   "metadata": {},
   "outputs": [
    {
     "data": {
      "text/html": [
       "<div>\n",
       "<style scoped>\n",
       "    .dataframe tbody tr th:only-of-type {\n",
       "        vertical-align: middle;\n",
       "    }\n",
       "\n",
       "    .dataframe tbody tr th {\n",
       "        vertical-align: top;\n",
       "    }\n",
       "\n",
       "    .dataframe thead th {\n",
       "        text-align: right;\n",
       "    }\n",
       "</style>\n",
       "<table border=\"1\" class=\"dataframe\">\n",
       "  <thead>\n",
       "    <tr style=\"text-align: right;\">\n",
       "      <th></th>\n",
       "      <th>Unnamed: 0</th>\n",
       "      <th>user id</th>\n",
       "      <th>test group</th>\n",
       "      <th>converted</th>\n",
       "      <th>total ads</th>\n",
       "      <th>most ads day</th>\n",
       "      <th>most ads hour</th>\n",
       "    </tr>\n",
       "  </thead>\n",
       "  <tbody>\n",
       "    <tr>\n",
       "      <th>0</th>\n",
       "      <td>0</td>\n",
       "      <td>1069124</td>\n",
       "      <td>ad</td>\n",
       "      <td>False</td>\n",
       "      <td>130</td>\n",
       "      <td>Monday</td>\n",
       "      <td>20</td>\n",
       "    </tr>\n",
       "    <tr>\n",
       "      <th>1</th>\n",
       "      <td>1</td>\n",
       "      <td>1119715</td>\n",
       "      <td>ad</td>\n",
       "      <td>False</td>\n",
       "      <td>93</td>\n",
       "      <td>Tuesday</td>\n",
       "      <td>22</td>\n",
       "    </tr>\n",
       "    <tr>\n",
       "      <th>2</th>\n",
       "      <td>2</td>\n",
       "      <td>1144181</td>\n",
       "      <td>ad</td>\n",
       "      <td>False</td>\n",
       "      <td>21</td>\n",
       "      <td>Tuesday</td>\n",
       "      <td>18</td>\n",
       "    </tr>\n",
       "    <tr>\n",
       "      <th>3</th>\n",
       "      <td>3</td>\n",
       "      <td>1435133</td>\n",
       "      <td>ad</td>\n",
       "      <td>False</td>\n",
       "      <td>355</td>\n",
       "      <td>Tuesday</td>\n",
       "      <td>10</td>\n",
       "    </tr>\n",
       "    <tr>\n",
       "      <th>4</th>\n",
       "      <td>4</td>\n",
       "      <td>1015700</td>\n",
       "      <td>ad</td>\n",
       "      <td>False</td>\n",
       "      <td>276</td>\n",
       "      <td>Friday</td>\n",
       "      <td>14</td>\n",
       "    </tr>\n",
       "  </tbody>\n",
       "</table>\n",
       "</div>"
      ],
      "text/plain": [
       "   Unnamed: 0  user id test group  converted  total ads most ads day  \\\n",
       "0           0  1069124         ad      False        130       Monday   \n",
       "1           1  1119715         ad      False         93      Tuesday   \n",
       "2           2  1144181         ad      False         21      Tuesday   \n",
       "3           3  1435133         ad      False        355      Tuesday   \n",
       "4           4  1015700         ad      False        276       Friday   \n",
       "\n",
       "   most ads hour  \n",
       "0             20  \n",
       "1             22  \n",
       "2             18  \n",
       "3             10  \n",
       "4             14  "
      ]
     },
     "execution_count": 1,
     "metadata": {},
     "output_type": "execute_result"
    }
   ],
   "source": [
    "import pandas as pd\n",
    "\n",
    "df = pd.read_csv('../dataset/marketing_AB.csv')\n",
    "df.head()"
   ]
  },
  {
   "cell_type": "markdown",
   "id": "0046a3ac-9239-4f61-ad70-e3ab59087034",
   "metadata": {},
   "source": [
    "## 2. 데이터 확인"
   ]
  },
  {
   "cell_type": "code",
   "execution_count": 2,
   "id": "5589fad7-df24-4436-8913-22ffc6329984",
   "metadata": {},
   "outputs": [
    {
     "data": {
      "text/plain": [
       "(588101, 7)"
      ]
     },
     "execution_count": 2,
     "metadata": {},
     "output_type": "execute_result"
    }
   ],
   "source": [
    "# 데이터 크기 (행, 열)\n",
    "df.shape"
   ]
  },
  {
   "cell_type": "code",
   "execution_count": 3,
   "id": "6f1d0cd7-aa4a-491a-a9c9-594ffbfa8ad2",
   "metadata": {},
   "outputs": [
    {
     "name": "stdout",
     "output_type": "stream",
     "text": [
      "<class 'pandas.core.frame.DataFrame'>\n",
      "RangeIndex: 588101 entries, 0 to 588100\n",
      "Data columns (total 7 columns):\n",
      " #   Column         Non-Null Count   Dtype \n",
      "---  ------         --------------   ----- \n",
      " 0   Unnamed: 0     588101 non-null  int64 \n",
      " 1   user id        588101 non-null  int64 \n",
      " 2   test group     588101 non-null  object\n",
      " 3   converted      588101 non-null  bool  \n",
      " 4   total ads      588101 non-null  int64 \n",
      " 5   most ads day   588101 non-null  object\n",
      " 6   most ads hour  588101 non-null  int64 \n",
      "dtypes: bool(1), int64(4), object(2)\n",
      "memory usage: 27.5+ MB\n"
     ]
    }
   ],
   "source": [
    "df.info()"
   ]
  },
  {
   "cell_type": "code",
   "execution_count": 4,
   "id": "c94da4d8-c755-4553-b8eb-4b00d680abf6",
   "metadata": {},
   "outputs": [
    {
     "data": {
      "text/html": [
       "<div>\n",
       "<style scoped>\n",
       "    .dataframe tbody tr th:only-of-type {\n",
       "        vertical-align: middle;\n",
       "    }\n",
       "\n",
       "    .dataframe tbody tr th {\n",
       "        vertical-align: top;\n",
       "    }\n",
       "\n",
       "    .dataframe thead th {\n",
       "        text-align: right;\n",
       "    }\n",
       "</style>\n",
       "<table border=\"1\" class=\"dataframe\">\n",
       "  <thead>\n",
       "    <tr style=\"text-align: right;\">\n",
       "      <th></th>\n",
       "      <th>Unnamed: 0</th>\n",
       "      <th>user id</th>\n",
       "      <th>total ads</th>\n",
       "      <th>most ads hour</th>\n",
       "    </tr>\n",
       "  </thead>\n",
       "  <tbody>\n",
       "    <tr>\n",
       "      <th>count</th>\n",
       "      <td>588101.000000</td>\n",
       "      <td>5.881010e+05</td>\n",
       "      <td>588101.000000</td>\n",
       "      <td>588101.000000</td>\n",
       "    </tr>\n",
       "    <tr>\n",
       "      <th>mean</th>\n",
       "      <td>294050.000000</td>\n",
       "      <td>1.310692e+06</td>\n",
       "      <td>24.820876</td>\n",
       "      <td>14.469061</td>\n",
       "    </tr>\n",
       "    <tr>\n",
       "      <th>std</th>\n",
       "      <td>169770.279667</td>\n",
       "      <td>2.022260e+05</td>\n",
       "      <td>43.715181</td>\n",
       "      <td>4.834634</td>\n",
       "    </tr>\n",
       "    <tr>\n",
       "      <th>min</th>\n",
       "      <td>0.000000</td>\n",
       "      <td>9.000000e+05</td>\n",
       "      <td>1.000000</td>\n",
       "      <td>0.000000</td>\n",
       "    </tr>\n",
       "    <tr>\n",
       "      <th>25%</th>\n",
       "      <td>147025.000000</td>\n",
       "      <td>1.143190e+06</td>\n",
       "      <td>4.000000</td>\n",
       "      <td>11.000000</td>\n",
       "    </tr>\n",
       "    <tr>\n",
       "      <th>50%</th>\n",
       "      <td>294050.000000</td>\n",
       "      <td>1.313725e+06</td>\n",
       "      <td>13.000000</td>\n",
       "      <td>14.000000</td>\n",
       "    </tr>\n",
       "    <tr>\n",
       "      <th>75%</th>\n",
       "      <td>441075.000000</td>\n",
       "      <td>1.484088e+06</td>\n",
       "      <td>27.000000</td>\n",
       "      <td>18.000000</td>\n",
       "    </tr>\n",
       "    <tr>\n",
       "      <th>max</th>\n",
       "      <td>588100.000000</td>\n",
       "      <td>1.654483e+06</td>\n",
       "      <td>2065.000000</td>\n",
       "      <td>23.000000</td>\n",
       "    </tr>\n",
       "  </tbody>\n",
       "</table>\n",
       "</div>"
      ],
      "text/plain": [
       "          Unnamed: 0       user id      total ads  most ads hour\n",
       "count  588101.000000  5.881010e+05  588101.000000  588101.000000\n",
       "mean   294050.000000  1.310692e+06      24.820876      14.469061\n",
       "std    169770.279667  2.022260e+05      43.715181       4.834634\n",
       "min         0.000000  9.000000e+05       1.000000       0.000000\n",
       "25%    147025.000000  1.143190e+06       4.000000      11.000000\n",
       "50%    294050.000000  1.313725e+06      13.000000      14.000000\n",
       "75%    441075.000000  1.484088e+06      27.000000      18.000000\n",
       "max    588100.000000  1.654483e+06    2065.000000      23.000000"
      ]
     },
     "execution_count": 4,
     "metadata": {},
     "output_type": "execute_result"
    }
   ],
   "source": [
    "# 기초 통계 (수치형)\n",
    "df.describe()"
   ]
  },
  {
   "cell_type": "markdown",
   "id": "faef8fe9-17bb-4d0a-a341-0c80bdcb2363",
   "metadata": {},
   "source": [
    "## 3. 범주형 변수 탐색"
   ]
  },
  {
   "cell_type": "code",
   "execution_count": 5,
   "id": "9136c9d4-1f08-4850-8d36-211a79050fcd",
   "metadata": {},
   "outputs": [
    {
     "name": "stdout",
     "output_type": "stream",
     "text": [
      "\n",
      "--- test group ---\n",
      "test group\n",
      "ad     564577\n",
      "psa     23524\n",
      "Name: count, dtype: int64\n",
      "\n",
      "--- most ads day ---\n",
      "most ads day\n",
      "Friday       92608\n",
      "Monday       87073\n",
      "Sunday       85391\n",
      "Thursday     82982\n",
      "Saturday     81660\n",
      "Wednesday    80908\n",
      "Tuesday      77479\n",
      "Name: count, dtype: int64\n"
     ]
    }
   ],
   "source": [
    "# object 타입 컬럼 확인\n",
    "cols = df.select_dtypes(include='object').columns\n",
    "\n",
    "# 각 범주형 변수별 분포\n",
    "for col in cols:\n",
    "    print(f\"\\n--- {col} ---\")\n",
    "    print(df[col].value_counts())"
   ]
  },
  {
   "cell_type": "markdown",
   "id": "c86cfce0-3b23-497f-b283-bba5b42428de",
   "metadata": {},
   "source": [
    "## 4. 결측치 확인"
   ]
  },
  {
   "cell_type": "code",
   "execution_count": 6,
   "id": "10784246-fa35-4453-a733-e51bb73c33a5",
   "metadata": {},
   "outputs": [
    {
     "name": "stdout",
     "output_type": "stream",
     "text": [
      "Unnamed: 0       0\n",
      "user id          0\n",
      "test group       0\n",
      "converted        0\n",
      "total ads        0\n",
      "most ads day     0\n",
      "most ads hour    0\n",
      "dtype: int64\n"
     ]
    }
   ],
   "source": [
    "# 결측치 개수 확인\n",
    "print(df.isnull().sum())"
   ]
  },
  {
   "cell_type": "markdown",
   "id": "7cad38ef-3e8a-4d0f-91cc-c7c4a2c1378b",
   "metadata": {},
   "source": [
    "## 5. 중복 여부 확인"
   ]
  },
  {
   "cell_type": "code",
   "execution_count": 20,
   "id": "77e029c2-bc0c-4efe-87af-1f47a1fdb219",
   "metadata": {},
   "outputs": [
    {
     "data": {
      "text/html": [
       "<div>\n",
       "<style scoped>\n",
       "    .dataframe tbody tr th:only-of-type {\n",
       "        vertical-align: middle;\n",
       "    }\n",
       "\n",
       "    .dataframe tbody tr th {\n",
       "        vertical-align: top;\n",
       "    }\n",
       "\n",
       "    .dataframe thead th {\n",
       "        text-align: right;\n",
       "    }\n",
       "</style>\n",
       "<table border=\"1\" class=\"dataframe\">\n",
       "  <thead>\n",
       "    <tr style=\"text-align: right;\">\n",
       "      <th></th>\n",
       "      <th>Unnamed: 0</th>\n",
       "      <th>user id</th>\n",
       "      <th>test group</th>\n",
       "      <th>converted</th>\n",
       "      <th>total ads</th>\n",
       "      <th>most ads day</th>\n",
       "      <th>most ads hour</th>\n",
       "    </tr>\n",
       "  </thead>\n",
       "  <tbody>\n",
       "  </tbody>\n",
       "</table>\n",
       "</div>"
      ],
      "text/plain": [
       "Empty DataFrame\n",
       "Columns: [Unnamed: 0, user id, test group, converted, total ads, most ads day, most ads hour]\n",
       "Index: []"
      ]
     },
     "execution_count": 20,
     "metadata": {},
     "output_type": "execute_result"
    }
   ],
   "source": [
    "# user id 기준 중복 행 출력\n",
    "df[df['user id'].duplicated()]"
   ]
  },
  {
   "cell_type": "markdown",
   "id": "ddc3fc48-2c23-42f5-a471-b6a004729ddb",
   "metadata": {},
   "source": [
    "## 6. 요약\n",
    "- 데이터는 총 588,101행 x 7열로 구성\n",
    "- 불필요한 컬럼(`Unnamed: 0`)은 향후 분석 시 제거\n",
    "- 실험군(`ad`)이 데이터의 대다수, 대조군(`psa`)은 소수\n",
    "- **결측치 X, 중복 X**"
   ]
  }
 ],
 "metadata": {
  "kernelspec": {
   "display_name": "Python 3 (ipykernel)",
   "language": "python",
   "name": "python3"
  },
  "language_info": {
   "codemirror_mode": {
    "name": "ipython",
    "version": 3
   },
   "file_extension": ".py",
   "mimetype": "text/x-python",
   "name": "python",
   "nbconvert_exporter": "python",
   "pygments_lexer": "ipython3",
   "version": "3.11.7"
  }
 },
 "nbformat": 4,
 "nbformat_minor": 5
}
