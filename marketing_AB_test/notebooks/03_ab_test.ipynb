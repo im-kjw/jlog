{
 "cells": [
  {
   "cell_type": "markdown",
   "id": "2acffc71-8118-4c68-b0ed-18131c617318",
   "metadata": {},
   "source": [
    "# 03. A/B Test\n",
    "\n",
    "### 1. 가설 설정 (Hypothesis Setting)\n",
    "- **귀무가설(H0)**: 두 그룹의 간 전환율 차이는 없다.\n",
    "- **대립가설(H1)**: 두 그룹의 간 전환율 차이는 있다.\n",
    "\n",
    "### 2. 통계 검정 대상 및 방법 (Test Design)\n",
    "1. **광고 효과 전체**\n",
    "    - 변수: `test group` ↔ `converted`\n",
    "    - 검정: 카이제곱 검정 (범주형-범주형 변수)\n",
    "<br><br>\n",
    "2. **광고 효과의 세부 요인**\n",
    "    - 요일 효과: `test group` + `most ads day` ↔ `converted`\n",
    "    - 시간대 효과: `test group` + `most ads hour` ↔ `converted`\n",
    "    - 노출량 효과: `test group` + `total ads` ↔ `converted`\n",
    "         \n",
    "    → 카이제곱 검정 또는 로지스틱 회귀 활용\n",
    "\n",
    "### 3. 검정 절차 (Step by Step)\n",
    "> 1. 데이터 분할 및 집계\n",
    "> 2. 상황별 통계 검정 수행 (카이제곱 / Z-test / 회귀 등)\n",
    "> 3. p-value 계산\n",
    "> 4. 유의수준(α = 0.05)과 비교하여 가설 기각 여부 판단\n",
    "> 5. 효과 크기(전환율 차이, 오즈비 등) 산출\n",
    "\n",
    "### 4. 결과 해석 (Interpretation)\n",
    "- 광고가 전환율에 유의미한 영향을 미치는가?\n",
    "- 어느 요인이 전환율 차이를 크게 만드는가? (요일, 시간대, 노출량)\n",
    "- 단순 효과인지, 교차 효과(상호작용)까지 확인할 필요가 있는가?\n",
    "\n",
    "### 5. 결론 (Conlusion)\n",
    "- 실험 결과 종합 요약\n",
    "- 광고 전략적 시사점 도출"
   ]
  },
  {
   "cell_type": "code",
   "execution_count": 10,
   "id": "9ebe4f3c-f24c-4534-af2d-4623c93a8f5c",
   "metadata": {},
   "outputs": [
    {
     "name": "stdout",
     "output_type": "stream",
     "text": [
      "converted    False  True \n",
      "test group               \n",
      "ad          550154  14423\n",
      "psa          23104    420 \n",
      "\n",
      "Chi2: 54.0058, p-value: 1.9990e-13\n",
      "→ p < 0.05: 귀무가설 기각, 광고 그룹과 PSA 그룹의 전환율 차이는 통계적으로 유의함\n"
     ]
    }
   ],
   "source": [
    "import pandas as pd\n",
    "import scipy.stats as stats\n",
    "\n",
    "# 데이터 불러오기\n",
    "df = pd.read_csv(\"../dataset/marketing_AB.csv\")\n",
    "\n",
    "# 광고 그룹(ad) vs PSA 그룹(psa) 전환율 분할표\n",
    "contingency = pd.crosstab(df['test group'], df['converted'])\n",
    "print(contingency, \"\\n\")\n",
    "\n",
    "# 1. 카이제곱 검정 (광고 전체 효과)\n",
    "chi2, p, dof, expected = stats.chi2_contingency(contingency)\n",
    "\n",
    "print(f\"Chi2: {chi2:.4f}, p-value: {p:.4e}\")\n",
    "\n",
    "alpha = 0.05\n",
    "if p < alpha:\n",
    "    print(\"→ p < 0.05: 귀무가설 기각, 광고 그룹과 PSA 그룹의 전환율 차이는 통계적으로 유의함\")\n",
    "else:\n",
    "    print(\"→ p >= 0.05: 귀무가설 채택, 광고 그룹과 PSA 그룹의 전환율 차이는 통계적으로 유의하지 않음\")"
   ]
  },
  {
   "cell_type": "code",
   "execution_count": 15,
   "id": "ea6ffd29-4269-4fea-a5c1-b894de001da0",
   "metadata": {},
   "outputs": [
    {
     "name": "stdout",
     "output_type": "stream",
     "text": [
      "Chi2: 481.0886, p-value: 1.5146e-94\n",
      "→ p < 0.05: 귀무가설 기각, 요일과 그룹에 따른 전환율 차이는 통계적으로 유의함\n"
     ]
    }
   ],
   "source": [
    "# 2. 요일 효과 (test group + 요일 ↔ converted)\n",
    "contingency_day = pd.crosstab([df['most ads day'], df['test group']], df['converted'])\n",
    "chi2, p, dof, expected = stats.chi2_contingency(contingency_day)\n",
    "print(f\"Chi2: {chi2:.4f}, p-value: {p:.4e}\")\n",
    "\n",
    "alpha = 0.05\n",
    "if p < alpha:\n",
    "    print(\"→ p < 0.05: 귀무가설 기각, 요일과 그룹에 따른 전환율 차이는 통계적으로 유의함\")\n",
    "else:\n",
    "    print(\"→ p >= 0.05: 귀무가설 채택, 요일과 그룹에 따른 전환율 차이는 통계적으로 유의하지 않음\")"
   ]
  },
  {
   "cell_type": "code",
   "execution_count": 16,
   "id": "1fd1e086-9820-4cc7-95c2-eb8fb8e359cc",
   "metadata": {},
   "outputs": [
    {
     "name": "stdout",
     "output_type": "stream",
     "text": [
      "Chi2: 496.7429, p-value: 2.1638e-76\n",
      "→ p < 0.05: 귀무가설 기각, 시간대와 그룹에 따른 전환율 차이는 통계적으로 유의함\n"
     ]
    }
   ],
   "source": [
    "# 3. 시간대 효과 (test group + 시간 ↔ converted)\n",
    "contingency_hour = pd.crosstab([df['most ads hour'], df['test group']], df['converted'])\n",
    "chi2, p, dof, expected = stats.chi2_contingency(contingency_hour)\n",
    "print(f\"Chi2: {chi2:.4f}, p-value: {p:.4e}\")\n",
    "\n",
    "alpha = 0.05\n",
    "if p < alpha:\n",
    "    print(\"→ p < 0.05: 귀무가설 기각, 시간대와 그룹에 따른 전환율 차이는 통계적으로 유의함\")\n",
    "else:\n",
    "    print(\"→ p >= 0.05: 귀무가설 채택, 시간대와 그룹에 따른 전환율 차이는 통계적으로 유의하지 않음\")"
   ]
  },
  {
   "cell_type": "code",
   "execution_count": 19,
   "id": "fa41b883-2dda-4e9c-afbf-3464b6ff146b",
   "metadata": {},
   "outputs": [
    {
     "name": "stdout",
     "output_type": "stream",
     "text": [
      "Optimization terminated successfully.\n",
      "         Current function value: 0.108986\n",
      "         Iterations 8\n",
      "                           Logit Regression Results                           \n",
      "==============================================================================\n",
      "Dep. Variable:              converted   No. Observations:               588101\n",
      "Model:                          Logit   Df Residuals:                   588098\n",
      "Method:                           MLE   Df Model:                            2\n",
      "Date:                Tue, 26 Aug 2025   Pseudo R-squ.:                 0.07467\n",
      "Time:                        02:23:29   Log-Likelihood:                -64095.\n",
      "converged:                       True   LL-Null:                       -69267.\n",
      "Covariance Type:            nonrobust   LLR p-value:                     0.000\n",
      "========================================================================================\n",
      "                           coef    std err          z      P>|z|      [0.025      0.975]\n",
      "----------------------------------------------------------------------------------------\n",
      "Intercept               -4.0412      0.010   -398.367      0.000      -4.061      -4.021\n",
      "C(test_group)[T.psa]    -0.3894      0.051     -7.562      0.000      -0.490      -0.288\n",
      "total_ads                0.0101   9.86e-05    102.886      0.000       0.010       0.010\n",
      "========================================================================================\n",
      "→ p < 0.05: 노출량(total_ads)은 전환율에 유의한 영향을 미침\n"
     ]
    }
   ],
   "source": [
    "# 4. 노출량 효과 (test_group + 노출량 ↔ converted)\n",
    "# 노출량(total_ads)은 연속형 변수이므로 로지스틱 회귀를 적용\n",
    "\n",
    "df = df.rename(columns={'test group': 'test_group', 'total ads': 'total_ads'})\n",
    "\n",
    "# converted를 0/1 정수로 변환\n",
    "df['converted'] = df['converted'].astype(int)\n",
    "\n",
    "# 로지스틱 회귀 실행\n",
    "import statsmodels.formula.api as smf\n",
    "\n",
    "model = smf.logit(\"converted ~ C(test_group) + total_ads\", data=df).fit()\n",
    "print(model.summary())\n",
    "\n",
    "# 노출량(total_ads) 유의성만 추가 체크\n",
    "p_ads = model.pvalues[\"total_ads\"]\n",
    "\n",
    "alpha = 0.05\n",
    "if p_ads < alpha:\n",
    "    print(\"→ p < 0.05: 노출량(total_ads)은 전환율에 유의한 영향을 미침\")\n",
    "else:\n",
    "    print(\"→ p >= 0.05: 노출량(total_ads)은 전환율에 유의한 영향을 주지 않음\")"
   ]
  },
  {
   "cell_type": "code",
   "execution_count": 20,
   "id": "558bfc58-694d-4e01-b871-9ebe161315f9",
   "metadata": {},
   "outputs": [
    {
     "name": "stdout",
     "output_type": "stream",
     "text": [
      "\n",
      "회귀계수 (log-odds):\n",
      "Intercept              -4.041237\n",
      "C(test_group)[T.psa]   -0.389428\n",
      "total_ads               0.010145\n",
      "dtype: float64\n",
      "\n",
      "승산비 (odds ratio):\n",
      "Intercept               0.017576\n",
      "C(test_group)[T.psa]    0.677444\n",
      "total_ads               1.010197\n",
      "dtype: float64\n",
      "\n",
      "해석:\n",
      "- 그룹 효과: PSA 그룹의 전환 확률은 광고 그룹(ad)에 비해 0.68배 수준\n",
      "- 노출량 효과: 광고 노출(total_ads) 1회 증가할 때마다 전환 확률의 승산이 1.010배 곱해짐\n"
     ]
    }
   ],
   "source": [
    "import numpy as np\n",
    "\n",
    "# 계수와 odds ratio 계산\n",
    "params = model.params\n",
    "odds_ratios = np.exp(params)\n",
    "\n",
    "print(\"\\n회귀계수 (log-odds):\")\n",
    "print(params)\n",
    "print(\"\\n승산비 (odds ratio):\")\n",
    "print(odds_ratios)\n",
    "\n",
    "# 해석 출력\n",
    "print(\"\\n해석:\")\n",
    "print(f\"- 그룹 효과: PSA 그룹의 전환 확률은 광고 그룹(ad)에 비해 \"\n",
    "      f\"{odds_ratios['C(test_group)[T.psa]']:.2f}배 수준\")\n",
    "print(f\"- 노출량 효과: 광고 노출(total_ads) 1회 증가할 때마다 전환 확률의 승산이 \"\n",
    "      f\"{odds_ratios['total_ads']:.3f}배 곱해짐\")"
   ]
  },
  {
   "cell_type": "markdown",
   "id": "028a081b-4515-488d-bd50-4fe1db9d7c76",
   "metadata": {},
   "source": [
    "### 통계적 가설 검정 요약\n",
    "\n",
    "#### 1. 광고 효과 유무\n",
    "- **가설**\n",
    "    - H0: 광고 그룹과 PSA 그룹의 전환율 차이는 없다.\n",
    "    - H1: 광고 그룹과 PSA 그룹의 전환율 차이는 있다.\n",
    "- **결과**\n",
    "    - 광고 그룹 전환율: 약 **2.55%**\n",
    "    - PSA 그룹 전환율: 약 **1.78%**\n",
    "    - p-value < 0.05 → **귀무가설 기각**\n",
    "- **해석**\n",
    "    - 광고 그룹의 전환율이 PSA 그룹보다 **유의하게 높음**\n",
    " \n",
    "#### 2. 요일 효과 (카이제곱 검정)\n",
    "- **가설**\n",
    "    - H0: 요일에 따른 전환율 차이는 없다.\n",
    "    - H1: 요일에 따른 전환율 차이는 있다.\n",
    "- **결과**\n",
    "    - 요일별 전환율에 차이 존재\n",
    "    - 특히 **월요일·화요일 전환율이 높음**\n",
    "    - p-value < 0.05 → **귀무가설 기각**\n",
    "- **해석**\n",
    "    - 요일은 전환율에 영향을 주는 요인으로 작용\n",
    "\n",
    "#### 3. 시간대 효과 (카이제곱 검정)\n",
    "- **가설**\n",
    "    - H0: 시간대에 따른 전환율 차이는 없다.\n",
    "    - H1: 시간대에 따른 전환율 차이는 있다.\n",
    "- **결과**\n",
    "    - **15 ~ 17시, 20 ~ 21시** 전환율이 두드러지게 높음\n",
    "    - p-value < 0.05 → **귀무가설 기각**\n",
    "- **해석**\n",
    "    - 시간대별 광고 효과가 다르며, 특정 시간대 집중 광고가 효과적\n",
    "\n",
    "#### 4. 노출량 효과 (로지스틱 회귀)\n",
    "- **가설**\n",
    "    - H0: 노출량은 전환율에 영향을 주지 않는다.\n",
    "    - H1: 노출량은 전환율에 영향을 준다.\n",
    "- **결과**\n",
    "    - total_ads 계수 = +0.01 (p < 0.001)\n",
    "    - 노출량이 많을수록 전환 확률 증가\n",
    "- **해석**\n",
    "    - 광고를 **더 자주 노출할수록 전환율이 상승**하는 경향 확인\n",
    " \n",
    "#### 5. 종합 결론\n",
    "> 광고 그룹이 PSA 그룹보다 **전환율에서 확실히 우위**\n",
    "> 전환율은 **요일·시간대별 차이** 존재\n",
    "> 노출량은 **전환율을 끌어올리는 요인 중 하나**\n",
    "> 따라서, **광고 집행 전략은 특정 요일·시간대에 집중하고 충분한 노출량 확보**가 핵심이다.\n",
    "\n",
    "#### 6. 전략적 시사점\n",
    "1. **예산 최적화** → 광고비를 분산하기보다 **월·화 / 오후 15 ~ 17시, 20 ~ 21시**에 집중 투자\n",
    "2. **캠페인 운영** → 단순한 광고 집행보다 **충분한 노출 빈도 확보**가 전환율 상승에 기여\n",
    "3. **광고 집행 효과 검증** → 향후 A/B 테스트는 새로운 광고 소재, 디자인 등 적용 가능"
   ]
  }
 ],
 "metadata": {
  "kernelspec": {
   "display_name": "Python 3 (ipykernel)",
   "language": "python",
   "name": "python3"
  },
  "language_info": {
   "codemirror_mode": {
    "name": "ipython",
    "version": 3
   },
   "file_extension": ".py",
   "mimetype": "text/x-python",
   "name": "python",
   "nbconvert_exporter": "python",
   "pygments_lexer": "ipython3",
   "version": "3.11.7"
  }
 },
 "nbformat": 4,
 "nbformat_minor": 5
}
